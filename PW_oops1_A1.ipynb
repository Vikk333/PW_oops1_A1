{
 "cells": [
  {
   "cell_type": "code",
   "execution_count": 1,
   "id": "bf390989-5f7e-483a-a6a1-5d2098999e56",
   "metadata": {},
   "outputs": [
    {
     "data": {
      "text/plain": [
       "\" For example, let's consider a class called Car. This class might have properties such as make, model, year, color, and mileage. \\nIt might also have methods such as start_engine, accelerate, and brake. \""
      ]
     },
     "execution_count": 1,
     "metadata": {},
     "output_type": "execute_result"
    }
   ],
   "source": [
    "# Q1. Explain Class and Object with respect to Object-Oriented Programming. Give a suitable example.\n",
    " \n",
    "''' For example, let's consider a class called Car. This class might have properties such as make, model, year, color, and mileage. \n",
    "It might also have methods such as start_engine, accelerate, and brake. '''"
   ]
  },
  {
   "cell_type": "code",
   "execution_count": 2,
   "id": "635bf93c-095b-4050-91ac-41840247c663",
   "metadata": {},
   "outputs": [],
   "source": [
    "#Q2. Name the four pillars of OOPs.\n",
    "#1.Encapsulation\n",
    "#2.Abstraction\n",
    "#3.Inheritance\n",
    "#4.Polymorphism"
   ]
  },
  {
   "cell_type": "code",
   "execution_count": 3,
   "id": "a7628785-64d5-4eb0-84b8-e3dd40b147e8",
   "metadata": {},
   "outputs": [],
   "source": [
    "#Q3. Explain why the __init__() function is used. Give a suitable example.\n",
    "'''In object-oriented programming, the __init__() function is a \n",
    "special method that is called when an object is created from a class.\n",
    "It is also known as a constructor because it initializes the attributes\n",
    "(variables) of an object. '''\n",
    "class Person:\n",
    "    def __init__(self, name, age):\n",
    "        self.name = name\n",
    "        self.age = age\n"
   ]
  },
  {
   "cell_type": "code",
   "execution_count": 4,
   "id": "8d9a2ef3-1889-4574-a6e0-36b21b60cbc2",
   "metadata": {},
   "outputs": [],
   "source": [
    "#Q4. Why self is used in OOPs?\n",
    "#The self parameter is used to access\n",
    "#the attributes and methods of an object from\n",
    "#within its own methods. It allows us to reference and modify\n",
    "#the state of an object from within its own methods."
   ]
  },
  {
   "cell_type": "code",
   "execution_count": 5,
   "id": "6e082e2a-dfd9-4772-99b7-7eab1d2ea4fc",
   "metadata": {},
   "outputs": [
    {
     "name": "stdout",
     "output_type": "stream",
     "text": [
      "Moving...\n",
      "Barking...\n"
     ]
    }
   ],
   "source": [
    "#Q5. What is inheritance? Give an example for each type of inheritance.\n",
    "'''Inheritance is a key concept in object-oriented \n",
    "programming (OOP) that allows a new class to be based on an existing class, \n",
    "inheriting all of its attributes and methods'''\n",
    "class Animal:\n",
    "    def move(self):\n",
    "        print(\"Moving...\")\n",
    "\n",
    "class Dog(Animal):\n",
    "    def bark(self):\n",
    "        print(\"Barking...\")\n",
    "\n",
    "dog = Dog()\n",
    "dog.move()  # Output: Moving...\n",
    "dog.bark()  # Output: Barking...\n"
   ]
  },
  {
   "cell_type": "code",
   "execution_count": null,
   "id": "1655bcc2-322f-422e-af12-030aa0808063",
   "metadata": {},
   "outputs": [],
   "source": []
  }
 ],
 "metadata": {
  "kernelspec": {
   "display_name": "Python 3 (ipykernel)",
   "language": "python",
   "name": "python3"
  },
  "language_info": {
   "codemirror_mode": {
    "name": "ipython",
    "version": 3
   },
   "file_extension": ".py",
   "mimetype": "text/x-python",
   "name": "python",
   "nbconvert_exporter": "python",
   "pygments_lexer": "ipython3",
   "version": "3.10.8"
  }
 },
 "nbformat": 4,
 "nbformat_minor": 5
}
